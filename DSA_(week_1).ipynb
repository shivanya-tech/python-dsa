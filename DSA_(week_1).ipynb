{
  "cells": [
    {
      "cell_type": "markdown",
      "metadata": {
        "id": "view-in-github",
        "colab_type": "text"
      },
      "source": [
        "<a href=\"https://colab.research.google.com/github/shivanya-tech/python-dsa-datatypes-methods/blob/main/DSA_(week_1).ipynb\" target=\"_parent\"><img src=\"https://colab.research.google.com/assets/colab-badge.svg\" alt=\"Open In Colab\"/></a>"
      ]
    },
    {
      "cell_type": "markdown",
      "id": "d6409354",
      "metadata": {
        "id": "d6409354"
      },
      "source": [
        "# 🧠 Week 1 - Recap of GCD, Primes, and OOP in Python\n",
        "\n",
        "This repository contains a quick refresher on: Exception handling and\n",
        "\n",
        "- **Greatest Common Divisor (GCD)** — Implemented using Euclid’s algorithm\n",
        "- **Prime Numbers** — Checking and generating primes\n",
        "- **Object-Oriented Programming (OOP)** — Classes, objects, and methods in Python\n",
        "\n",
        "Purpose: To build a solid foundation for solving algorithmic problems and understanding Python’s OOP paradigm.\n",
        "\n",
        "---\n",
        "\n",
        "Created by: [Shivani Vishwakarma]  \n",
        "Date: June 2025\n"
      ]
    },
    {
      "cell_type": "markdown",
      "id": "34adff0a",
      "metadata": {
        "id": "34adff0a"
      },
      "source": [
        "### 📌 Section 1: GCD (Greatest Common Divisor) Functions"
      ]
    },
    {
      "cell_type": "code",
      "execution_count": null,
      "id": "fa5fd04b",
      "metadata": {
        "id": "fa5fd04b",
        "colab": {
          "base_uri": "https://localhost:8080/"
        },
        "outputId": "0238cbeb-7d80-41c7-b746-10ba593df18c"
      },
      "outputs": [
        {
          "output_type": "stream",
          "name": "stdout",
          "text": [
            "4\n"
          ]
        }
      ],
      "source": [
        "# Method 1: Using a list of common factors\n",
        "def gcf(m, n):\n",
        "    cf = []\n",
        "    for i in range(1, min(m, n) + 1):\n",
        "        if (m % i) == 0 and (n % i) == 0:\n",
        "            cf.append(i)\n",
        "    return cf[-1]\n",
        "\n",
        "print(gcf(8, 12))"
      ]
    },
    {
      "cell_type": "code",
      "execution_count": null,
      "id": "94f1dba1",
      "metadata": {
        "id": "94f1dba1"
      },
      "outputs": [],
      "source": [
        "# Method 2: More optimized (no list)\n",
        "def gcf(m, n):\n",
        "    for i in range(1, min(m, n) + 1):\n",
        "        if (m % i) == 0 and (n % i) == 0:\n",
        "            mrff = i\n",
        "    return mrff\n",
        "\n",
        "print(gcf(8, 12))"
      ]
    },
    {
      "cell_type": "code",
      "execution_count": null,
      "id": "ecb2316b",
      "metadata": {
        "id": "ecb2316b"
      },
      "outputs": [],
      "source": [
        "# Method 3: Recursive (modulo-based)\n",
        "def gcf(m, n):\n",
        "    if n == 0:\n",
        "        return m\n",
        "    else:\n",
        "        return gcf(n, m % n)"
      ]
    },
    {
      "cell_type": "code",
      "execution_count": null,
      "id": "abda1389",
      "metadata": {
        "id": "abda1389"
      },
      "outputs": [],
      "source": [
        "# Method 4: Subtraction-based recursive\n",
        "def gcd(m, n):\n",
        "    (a, b) = (max(m, n), min(m, n))\n",
        "    if a % b == 0:\n",
        "        return b\n",
        "    else:\n",
        "        return gcd(b, a - b)"
      ]
    },
    {
      "cell_type": "code",
      "source": [
        "# Method 5: Euclid's algorithm method\n",
        "def gcd(m, n):\n",
        "    (a, b) = (max(m, n), min(m, n))\n",
        "    if a % b == 0:\n",
        "        return b\n",
        "    else:\n",
        "        return gcd(b, a%b)"
      ],
      "metadata": {
        "id": "QHFZSzTwMENC"
      },
      "id": "QHFZSzTwMENC",
      "execution_count": null,
      "outputs": []
    },
    {
      "cell_type": "markdown",
      "id": "5ad3af09",
      "metadata": {
        "id": "5ad3af09"
      },
      "source": [
        "### 📌 Section 2: Prime Number Check"
      ]
    },
    {
      "cell_type": "code",
      "execution_count": null,
      "id": "33657453",
      "metadata": {
        "id": "33657453",
        "colab": {
          "base_uri": "https://localhost:8080/"
        },
        "outputId": "1f0655e7-4dea-4ba5-f257-df67614ded09"
      },
      "outputs": [
        {
          "output_type": "stream",
          "name": "stdout",
          "text": [
            "Enter a number: 1\n",
            "False\n"
          ]
        }
      ],
      "source": [
        "# Simple factor-based method\n",
        "def factors(n):\n",
        "    cf=[]\n",
        "    for i in range(1,n+1):\n",
        "        if n%i==0:\n",
        "            cf.append(i)\n",
        "    return cf\n",
        "def primes(n):\n",
        "    return factors(n)==[1,n]\n",
        "print(primes(int(input(\"Enter a number: \"))) )"
      ]
    },
    {
      "cell_type": "code",
      "execution_count": null,
      "id": "449cbb0e",
      "metadata": {
        "id": "449cbb0e",
        "colab": {
          "base_uri": "https://localhost:8080/"
        },
        "outputId": "0c80aa58-a5c9-4550-eac5-cf512fcc2d8f"
      },
      "outputs": [
        {
          "output_type": "stream",
          "name": "stdout",
          "text": [
            "Enter a number: 1\n",
            "False\n"
          ]
        }
      ],
      "source": [
        "# Efficient prime check (loop till n-1)\n",
        "def prime(n):\n",
        "    result = True\n",
        "    if n <= 1:\n",
        "        return False\n",
        "    for i in range(2, n):\n",
        "        if (n % i) == 0:\n",
        "            result = False\n",
        "            break\n",
        "    return result\n",
        "print(prime(int(input(\"Enter a number: \"))) )"
      ]
    },
    {
      "cell_type": "code",
      "execution_count": null,
      "id": "01d63edf",
      "metadata": {
        "id": "01d63edf"
      },
      "outputs": [],
      "source": [
        "# More optimized (early exit)\n",
        "def prime(n):\n",
        "    if n <= 1:\n",
        "        return False\n",
        "    result, i = True, 2\n",
        "    while (result and i < n):\n",
        "        if (n % i) == 0:\n",
        "            result = False\n",
        "        i += 1\n",
        "    return result"
      ]
    },
    {
      "cell_type": "code",
      "execution_count": null,
      "id": "a9cf7096",
      "metadata": {
        "id": "a9cf7096"
      },
      "outputs": [],
      "source": [
        "# Best method (check till sqrt(n))\n",
        "import math\n",
        "\n",
        "def prime(n):\n",
        "    if n <= 1:\n",
        "        return False\n",
        "    result, i = True, 2\n",
        "    while result and (i <= math.sqrt(n)):\n",
        "        if (n % i) == 0:\n",
        "            result = False\n",
        "        i += 1\n",
        "    return result\n"
      ]
    },
    {
      "cell_type": "markdown",
      "id": "2cbc2f38",
      "metadata": {
        "id": "2cbc2f38"
      },
      "source": [
        "### 📌 Section 3: List of Prime Numbers upto m\n",
        "\n",
        "\n",
        "\n"
      ]
    },
    {
      "cell_type": "code",
      "execution_count": null,
      "id": "41f28278",
      "metadata": {
        "colab": {
          "base_uri": "https://localhost:8080/"
        },
        "id": "41f28278",
        "outputId": "83dbcff2-dd4f-4218-ffef-1bc36ddb4038"
      },
      "outputs": [
        {
          "output_type": "stream",
          "name": "stdout",
          "text": [
            "[2, 3, 5, 7, 11, 13, 17, 19, 23]\n"
          ]
        }
      ],
      "source": [
        "import math\n",
        "\n",
        "def prime(n):\n",
        "    if n <= 1:\n",
        "        return False\n",
        "    result, i = True, 2\n",
        "    while result and (i <= math.sqrt(n)):\n",
        "        if (n % i) == 0:\n",
        "            result = False\n",
        "        i += 1\n",
        "    return result\n",
        "def primesupto(k):\n",
        "    j = []\n",
        "    for i in range(1, k + 1):\n",
        "        if prime(i):\n",
        "            j.append(i)\n",
        "    return j\n",
        "\n",
        "print(primesupto(26))"
      ]
    },
    {
      "cell_type": "markdown",
      "source": [
        "###📌 Section 3: List of first m Prime Numbers"
      ],
      "metadata": {
        "id": "UaiiI1v1SnGC"
      },
      "id": "UaiiI1v1SnGC"
    },
    {
      "cell_type": "code",
      "execution_count": null,
      "id": "da4fc915",
      "metadata": {
        "colab": {
          "base_uri": "https://localhost:8080/"
        },
        "id": "da4fc915",
        "outputId": "964aea87-654d-4f48-88f5-fc49ea9be217"
      },
      "outputs": [
        {
          "output_type": "stream",
          "name": "stdout",
          "text": [
            "[2, 3, 5, 7, 11, 13, 17, 19, 23, 29, 31, 37, 41, 43, 47, 53, 59, 61, 67, 71, 73, 79, 83, 89, 97, 101, 103, 107, 109, 113, 127, 131, 137, 139, 149, 151, 157, 163, 167, 173, 179, 181, 191, 193, 197, 199, 211, 223, 227, 229, 233, 239, 241, 251, 257, 263, 269, 271, 277, 281, 283, 293, 307, 311, 313, 317, 331, 337, 347, 349, 353, 359, 367, 373, 379, 383, 389, 397, 401, 409, 419, 421, 431, 433, 439, 443, 449, 457, 461, 463, 467, 479, 487, 491, 499, 503, 509, 521, 523, 541]\n"
          ]
        }
      ],
      "source": [
        "import math\n",
        "\n",
        "def prime(n):\n",
        "    if n <= 1:\n",
        "        return False\n",
        "    result, i = True, 2\n",
        "    while result and (i <= math.sqrt(n)):\n",
        "        if (n % i) == 0:\n",
        "            result = False\n",
        "        i += 1\n",
        "    return result\n",
        "  # First m prime numbers\n",
        "def primesumupto(m):\n",
        "    count, i, pl = 0, 1, []\n",
        "    while count < m:\n",
        "        if prime(i):\n",
        "            pl.append(i)\n",
        "            count += 1\n",
        "        i += 1\n",
        "    return pl\n",
        "\n",
        "print(primesumupto(100))"
      ]
    },
    {
      "cell_type": "markdown",
      "id": "a558dafe",
      "metadata": {
        "id": "a558dafe"
      },
      "source": [
        "### 📌 Section 4: Prime Gap Differences"
      ]
    },
    {
      "cell_type": "code",
      "execution_count": null,
      "id": "cd5a0a90",
      "metadata": {
        "colab": {
          "base_uri": "https://localhost:8080/"
        },
        "id": "cd5a0a90",
        "outputId": "f2c3cdfc-22b9-4283-d1e0-7144e84b970c"
      },
      "outputs": [
        {
          "output_type": "stream",
          "name": "stdout",
          "text": [
            "{1: 1, 2: 6, 4: 5, 6: 2}\n"
          ]
        }
      ],
      "source": [
        "def primediffs(n):\n",
        "    lastprime = 2\n",
        "    pd = {}\n",
        "    for i in range(3, n + 1):\n",
        "        if prime(i):\n",
        "            d = i - lastprime\n",
        "            lastprime = i\n",
        "            if d in pd:\n",
        "                pd[d] += 1\n",
        "            else:\n",
        "                pd[d] = 1\n",
        "    return pd\n",
        "\n",
        "print(primediffs(50))"
      ]
    },
    {
      "cell_type": "markdown",
      "source": [],
      "metadata": {
        "id": "Hkz9JNO_lQjB"
      },
      "id": "Hkz9JNO_lQjB"
    },
    {
      "cell_type": "markdown",
      "id": "025041a7",
      "metadata": {
        "id": "025041a7"
      },
      "source": [
        "### 📌 Section 5: Object-Oriented Programming (OOP)\n",
        "before we dive into oop let's first understand Evolution of Programming Paradigms\n",
        "- 1. **Procedural Programming (1950s–1970s)**:\n",
        "In procedural programming, we write code from top to bottom as a series of step-by-step instructions. While this approach is easy to understand and works well for small programs, it often leads to code redundancy and poor reusability because logic is not modular or encapsulated.\n",
        "\n",
        "- 2. **Functional Programming (Popularized in 2000s):**\n",
        "Functional programming focuses on pure functions and immutability. It treats functions as first-class citizens and avoids changing state or mutable data. This results in cleaner, more predictable code and is well-suited for parallel processing, but can be harder to grasp initially.\n",
        "\n",
        "- 3. Object-Oriented Programming (1980s–2000s):\n",
        "Object-oriented programming organizes code around objects — bundles of data and methods. It introduces concepts like encapsulation, inheritance, and polymorphism. OOP promotes reusability and scalability in large systems, making it ideal for complex software development.\n"
      ]
    },
    {
      "cell_type": "code",
      "execution_count": null,
      "id": "6e9deca0",
      "metadata": {
        "id": "6e9deca0"
      },
      "outputs": [],
      "source": [
        "# Basic Student class\n",
        "class Student:\n",
        "    def __init__(self, name, marks):\n",
        "        self.name = name\n",
        "        self.marks = marks\n",
        "        print(\"Adding new student in Database...\")\n",
        "\n",
        "s1 = Student(\"Karan\", 97)\n",
        "print(s1.name)\n",
        "\n",
        "s2 = Student(\"Arjun\", 88)\n",
        "print(s2.name, s2.marks)"
      ]
    },
    {
      "cell_type": "code",
      "execution_count": null,
      "id": "31536847",
      "metadata": {
        "colab": {
          "base_uri": "https://localhost:8080/"
        },
        "id": "31536847",
        "outputId": "46e48fd9-3123-40d7-fd6e-c40615419e25"
      },
      "outputs": [
        {
          "output_type": "stream",
          "name": "stdout",
          "text": [
            "John(36)\n",
            "Johrn(26)\n"
          ]
        }
      ],
      "source": [
        "# Person class with __str__ method\n",
        "class Person:\n",
        "    def __init__(self, name, age):\n",
        "        self.name = name\n",
        "        self.age = age\n",
        "\n",
        "    def __str__(self):\n",
        "        return f\"{self.name}({self.age})\"\n",
        "\n",
        "p1 = Person(\"John\", 36)\n",
        "p2 = Person(\"Johrn\", 26)\n",
        "\n",
        "print(p1)\n",
        "print(p2)"
      ]
    },
    {
      "cell_type": "code",
      "execution_count": null,
      "id": "49059ce2",
      "metadata": {
        "colab": {
          "base_uri": "https://localhost:8080/"
        },
        "id": "49059ce2",
        "outputId": "88638bd6-a114-47ab-8e18-a3a437c6d177"
      },
      "outputs": [
        {
          "output_type": "stream",
          "name": "stdout",
          "text": [
            "Hello my name is John and I am of 36\n"
          ]
        }
      ],
      "source": [
        "# Person class with custom method\n",
        "class Person:\n",
        "    def __init__(self, name, age):\n",
        "        self.name = name\n",
        "        self.age = age\n",
        "\n",
        "    def myfunc(self):\n",
        "        print(\"Hello my name is \" + self.name + \" and I am of \" + str(self.age))\n",
        "\n",
        "p1 = Person(\"John\", 36)\n",
        "p1.myfunc()"
      ]
    },
    {
      "cell_type": "code",
      "execution_count": null,
      "id": "782ba2dd",
      "metadata": {
        "id": "782ba2dd"
      },
      "outputs": [],
      "source": [
        "# Class with method to calculate distance\n",
        "import math\n",
        "\n",
        "class Point:\n",
        "    def __init__(self, a=0, b=0):\n",
        "        self.x = a\n",
        "        self.y = b\n",
        "\n",
        "    def translate(self, deltax, deltay):\n",
        "        self.x += deltax\n",
        "        self.y += deltay\n",
        "\n",
        "    def odistance(self):\n",
        "        d = math.sqrt(self.x ** 2 + self.y ** 2)\n",
        "        return d"
      ]
    },
    {
      "cell_type": "markdown",
      "source": [],
      "metadata": {
        "id": "cw-KbVU3kwq5"
      },
      "id": "cw-KbVU3kwq5"
    },
    {
      "cell_type": "markdown",
      "id": "0a22325d",
      "metadata": {
        "id": "0a22325d"
      },
      "source": [
        "### 📌 Section 6: Timer Class for Measuring Performance"
      ]
    },
    {
      "cell_type": "code",
      "execution_count": null,
      "id": "45732999",
      "metadata": {
        "id": "45732999"
      },
      "outputs": [],
      "source": [
        "import time\n",
        "\n",
        "class Timer:\n",
        "    def __init__(self):\n",
        "        self._start_time = 0\n",
        "        self._elapsed_time = 0\n",
        "\n",
        "    def start(self):\n",
        "        self._start_time = time.perf_counter()\n",
        "\n",
        "    def stop(self):\n",
        "        self._elapsed_time = time.perf_counter() - self._start_time\n",
        "\n",
        "    def elapsed(self):\n",
        "        return self._elapsed_time"
      ]
    },
    {
      "cell_type": "markdown",
      "id": "ace6ea56",
      "metadata": {
        "id": "ace6ea56"
      },
      "source": [
        "### 📌 Section 7: Prime Function Performance Comparison"
      ]
    },
    {
      "cell_type": "code",
      "execution_count": null,
      "id": "411f7001",
      "metadata": {
        "id": "411f7001"
      },
      "outputs": [],
      "source": [
        "# Best method using sqrt(n)\n",
        "import math\n",
        "\n",
        "def primes(n):\n",
        "    if n <= 1:\n",
        "        return False\n",
        "    result, i = True, 2\n",
        "    while result and i <= math.sqrt(n):\n",
        "        if n % i == 0:\n",
        "            result = False\n",
        "        i += 1\n",
        "    return result\n",
        "\n",
        "t = Timer()\n",
        "t.start()\n",
        "print(primes(1000009))\n",
        "t.stop()\n",
        "print(\"Time taken:\", t.elapsed(), \"seconds\")"
      ]
    },
    {
      "cell_type": "code",
      "execution_count": null,
      "id": "6c92afb7",
      "metadata": {
        "id": "6c92afb7"
      },
      "outputs": [],
      "source": [
        "# Less efficient method (loop till n)\n",
        "def primes(n):\n",
        "    if n <= 1:\n",
        "        return False\n",
        "    result = True\n",
        "    for i in range(2, n):\n",
        "        if n % i == 0:\n",
        "            result = False\n",
        "    return result\n",
        "\n",
        "t = Timer()\n",
        "t.start()\n",
        "print(primes(1000009))\n",
        "t.stop()\n",
        "print(\"Time taken:\", t.elapsed(), \"seconds\")"
      ]
    },
    {
      "cell_type": "markdown",
      "source": [
        "### ⚠️ Common Python Exceptions (Error Handling Reference)\n",
        "python has a large set of built-in exceptions (errors) that can be raised during code execution. most common error is syntax error .\n",
        "- SyntaxError: Invalid syntax (not much you can do)\n",
        "- TypeError: you try to perform an operation on a value of the wrong data type.\n",
        "\n",
        "Python can handle multiple errors — either at once or separately — using try, except, and optionally finally or else.\n",
        "\n",
        "![Python Errors](attachment:Screenshot 2025-06-17 142201.png)\n",
        "\n",
        "This image lists common exceptions like:\n",
        "- `ZeroDivisionError`\n",
        "- `ValueError`\n",
        "- `NameError`\n",
        "- `IndexError`\n",
        "- `FileNotFoundError`\n",
        "- `OSError`\n",
        "\n",
        "Use this as a quick guide while debugging!"
      ],
      "metadata": {
        "id": "OKLmW2wOIA7c"
      },
      "id": "OKLmW2wOIA7c"
    },
    {
      "cell_type": "code",
      "source": [
        "from IPython.display import Image, display\n",
        "\n",
        "display(Image(\"Screenshot 2025-06-17 142201.png\"))\n",
        "\n",
        "\n"
      ],
      "metadata": {
        "colab": {
          "base_uri": "https://localhost:8080/",
          "height": 733
        },
        "id": "2vIC8861GTjC",
        "outputId": "6c574c28-4acb-4049-d8b2-b992a56e2317",
        "collapsed": true
      },
      "id": "2vIC8861GTjC",
      "execution_count": null,
      "outputs": [
        {
          "output_type": "display_data",
          "data": {
            "image/png": "[encoded data removed]",
            "text/plain": [
              "<IPython.core.display.Image object>"
            ]
          },
          "metadata": {}
        }
      ]
    }
  ],
  "metadata": {
    "colab": {
      "provenance": [],
      "include_colab_link": true
    },
    "language_info": {
      "name": "python"
    },
    "kernelspec": {
      "name": "python3",
      "display_name": "Python 3"
    }
  },
  "nbformat": 4,
  "nbformat_minor": 5
}