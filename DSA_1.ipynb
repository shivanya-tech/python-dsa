{
  "nbformat": 4,
  "nbformat_minor": 0,
  "metadata": {
    "colab": {
      "provenance": [],
      "toc_visible": true,
      "authorship_tag": "ABX9TyMlm4uI1I5eADrjgyIShaPa",
      "include_colab_link": true
    },
    "kernelspec": {
      "name": "python3",
      "display_name": "Python 3"
    },
    "language_info": {
      "name": "python"
    }
  },
  "cells": [
    {
      "cell_type": "markdown",
      "metadata": {
        "id": "view-in-github",
        "colab_type": "text"
      },
      "source": [
        "<a href=\"https://colab.research.google.com/github/shivanya-tech/python-dsa-datatypes-methods/blob/main/DSA_1.ipynb\" target=\"_parent\"><img src=\"https://colab.research.google.com/assets/colab-badge.svg\" alt=\"Open In Colab\"/></a>"
      ]
    },
    {
      "cell_type": "markdown",
      "source": [
        "###validate whether n is a perfect square or not"
      ],
      "metadata": {
        "id": "c_1PT554p4C8"
      }
    },
    {
      "cell_type": "code",
      "source": [
        "# First method\n",
        "def h(n):\n",
        "    return (n**0.5) == int(n**0.5)\n",
        "\n",
        "print(\"First method:\", h(25))\n",
        "\n",
        "\n",
        "# Second method\n",
        "def h(n):\n",
        "    for i in range(1, n + 1):\n",
        "        if i * i == n:\n",
        "            return True\n",
        "    return False\n",
        "\n",
        "print(\"Second method:\", h(25))\n",
        "\n",
        "\n",
        "# Third method\n",
        "def h(n):\n",
        "    for i in range(1, n + 1):\n",
        "        if i * i > n:\n",
        "            break\n",
        "        elif i * i == n:\n",
        "            return True\n",
        "    return False\n",
        "\n",
        "print(\"Third method:\", h(25))\n"
      ],
      "metadata": {
        "colab": {
          "base_uri": "https://localhost:8080/"
        },
        "id": "VKTErp_Gp5oJ",
        "outputId": "f46d593d-ed87-4e63-f4c8-16931d857ac7"
      },
      "execution_count": null,
      "outputs": [
        {
          "output_type": "stream",
          "name": "stdout",
          "text": [
            "First method: True\n",
            "Second method: True\n",
            "Third method: True\n"
          ]
        }
      ]
    },
    {
      "cell_type": "markdown",
      "source": [
        "###to check palindrome"
      ],
      "metadata": {
        "id": "6AHWZPkbxRb4"
      }
    },
    {
      "cell_type": "code",
      "source": [
        "def isSymmetricBad(L):\n",
        "    try:\n",
        "        while len(L) > 0:\n",
        "            if L.pop(0) != L.pop(-1):\n",
        "                return False\n",
        "        return True\n",
        "    except IndexError:\n",
        "        print('IndexError')\n",
        "    except:\n",
        "        print('Some other exception occurred')\n",
        "    else:\n",
        "        print('No exception occurred')\n",
        "\n",
        "# Test case where it fails (odd-length palindrome)\n",
        "L = [1, 2, 3, 2, 1]\n",
        "isSymmetricBad(L)\n"
      ],
      "metadata": {
        "colab": {
          "base_uri": "https://localhost:8080/"
        },
        "id": "fFab_u4NxTZY",
        "outputId": "6b01b2a1-4b17-4b81-9f36-708e58bcfe58"
      },
      "execution_count": null,
      "outputs": [
        {
          "output_type": "stream",
          "name": "stdout",
          "text": [
            "IndexError\n"
          ]
        }
      ]
    },
    {
      "cell_type": "markdown",
      "source": [
        "### q1). Twin primes are pairs of prime numbers that differ by 2. For example (3, 5), (5, 7), and (11,13) are twin primes.\n",
        "Write a function Twin_Primes(n, m) where n and m are positive integers and n < m , that returns all unique twin primes between m and n (both inclusive). The function returns a list of tuples and each tuple (a,b) represents one unique twin prime where n <= a < b <= m."
      ],
      "metadata": {
        "id": "XWapPT8R44vD"
      }
    },
    {
      "cell_type": "code",
      "execution_count": null,
      "metadata": {
        "colab": {
          "base_uri": "https://localhost:8080/"
        },
        "id": "YTtl14zr4x4j",
        "outputId": "483508c6-6766-4464-ac10-ce0f5d32603d"
      },
      "outputs": [
        {
          "output_type": "stream",
          "name": "stdout",
          "text": [
            "[(3, 5), (5, 7), (11, 13)]\n"
          ]
        }
      ],
      "source": [
        "def primes(a):\n",
        "  result=True\n",
        "  if a <= 1:\n",
        "    return False\n",
        "  for i in range(2, a):\n",
        "    if a % i == 0:\n",
        "      result = False\n",
        "      break\n",
        "  return result\n",
        "\n",
        "def Twin_primes(n,m):\n",
        "  l=[]\n",
        "  for i in range(n,m+1):\n",
        "    if primes(i) and primes(i+2):\n",
        "      l.append((i,i+2))\n",
        "  return l\n",
        "\n",
        "print(Twin_primes(1,13))\n",
        "\n",
        "\n",
        "\n"
      ]
    },
    {
      "cell_type": "markdown",
      "source": [
        "###q2).Create a **Triangle** class that accepts three side-lengths of the triangle as `a`, `b` and `c` as parameters at the time of object creation. Class **Triangle** should have the following methods:\n",
        "\n",
        "### • Is\\_valid()\n",
        "\n",
        "Returns `Valid` if triangle is valid otherwise returns `Invalid`.\n",
        "\n",
        "* A triangle is valid when the sum of its two side-length are greater than the third one.\n",
        "  That means the triangle is valid if all three conditions are satisfied:\n",
        "\n",
        "  * a + b > c\n",
        "  * a + c > b\n",
        "  * b + c > a\n",
        "\n",
        "---\n",
        "\n",
        "### • Side\\_Classification()\n",
        "\n",
        "If the triangle is invalid then return `Invalid`. Otherwise, it returns the type of triangle according to the sides of the triangle as follows:\n",
        "\n",
        "* Return `Equilateral` if all sides are of equal length.\n",
        "* Return `Isosceles` if any two sides are of equal length and third is different.\n",
        "* Return `Scalene` if all sides are of different lengths.\n",
        "\n",
        "---\n",
        "\n",
        "### • Angle\\_Classification()\n",
        "\n",
        "If the triangle is invalid then return `Invalid`. Otherwise, return type of triangle using Pythagoras theorem.\n",
        "\n",
        "For example if **a <= b <= c**, then:\n",
        "\n",
        "* If a² + b² > c² return `Acute`\n",
        "* If a² + b² = c² return `Right`\n",
        "* If a² + b² < c² return `Obtuse`\n",
        "\n",
        "> In the formula of angle classification, the square of the largest side length should be compared to the sum of squares of the other two side lengths.\n",
        "\n",
        "\n",
        "### • Area()\n",
        "\n",
        "If the triangle is invalid then return `Invalid`. Otherwise, return the area of the triangle.\n",
        "\n",
        "$$\n",
        "\\text{Area} = \\sqrt{s(s-a)(s-b)(s-c)}\n",
        "$$\n",
        "\n",
        "Where:\n",
        "\n",
        "$$\n",
        "s = \\frac{(a + b + c)}{2}\n",
        "$$\n",
        "\n"
      ],
      "metadata": {
        "id": "c2RdW4Hu6lFg"
      }
    },
    {
      "cell_type": "code",
      "source": [
        "\n",
        "\n",
        "class Triangle:\n",
        "    def __init__(self, a, b, c):\n",
        "        self.a = a\n",
        "        self.b = b\n",
        "        self.c = c\n",
        "\n",
        "    def Is_valid(self):\n",
        "        a, b, c = self.a, self.b, self.c\n",
        "        if a + b > c and a + c > b and b + c > a:\n",
        "            return \"Valid\"\n",
        "        else:\n",
        "            return \"Invalid\"\n",
        "\n",
        "    def Side_Classification(self):\n",
        "        if self.Is_valid() == \"Invalid\":\n",
        "            return \"Invalid\"\n",
        "        a, b, c = self.a, self.b, self.c\n",
        "        if a == b == c:\n",
        "            return \"Equilateral\"\n",
        "        elif a == b or b == c or a == c:\n",
        "            return \"Isosceles\"\n",
        "        else:\n",
        "            return \"Scalene\"\n",
        "\n",
        "    def Angle_Classification(self):\n",
        "        if self.Is_valid() == \"Invalid\":\n",
        "            return \"Invalid\"\n",
        "        a, b, c = sorted([self.a, self.b, self.c])  # Ensure c is the largest\n",
        "        if a**2 + b**2 > c**2:\n",
        "            return \"Acute\"\n",
        "        elif a**2 + b**2 == c**2:\n",
        "            return \"Right\"\n",
        "        else:\n",
        "            return \"Obtuse\"\n",
        "\n",
        "    def Area(self):\n",
        "        if self.Is_valid() == \"Invalid\":\n",
        "            return \"Invalid\"\n",
        "        a, b, c = self.a, self.b, self.c\n",
        "        s = (a + b + c) / 2\n",
        "        area = (s * (s - a) * (s - b) * (s - c))**0.5\n",
        "        return are\n",
        "\n",
        "\n",
        "\n",
        "a=int(input())\n",
        "b=int(input())\n",
        "c=int(input())\n",
        "T=Triangle(a,b,c)\n",
        "print(T.Is_valid())\n",
        "print(T.Side_Classification())\n",
        "print(T.Angle_Classification())\n",
        "print(T.Area())"
      ],
      "metadata": {
        "colab": {
          "base_uri": "https://localhost:8080/"
        },
        "id": "3rs0DTna7Dg8",
        "outputId": "27aaf787-d43a-4c6f-8901-e28f5ff4e0c5"
      },
      "execution_count": null,
      "outputs": [
        {
          "output_type": "stream",
          "name": "stdout",
          "text": [
            "4\n",
            "8\n",
            "0\n",
            "Invalid\n",
            "Invalid\n",
            "Invalid\n",
            "Invalid\n"
          ]
        }
      ]
    },
    {
      "cell_type": "markdown",
      "source": [
        "## 🧮 Problem: Minimum Difference in Subsets\n",
        "\n",
        "### ✨ Function: `find_Min_Difference(L, P)`\n",
        "\n",
        "You are given:\n",
        "\n",
        "- A list `L` of integers\n",
        "- A number `P` (positive integer)\n",
        "\n",
        "✅ The size of `L` is always **greater than** `P`.\n",
        "\n",
        "---\n",
        "\n",
        "### 🎯 Task:\n",
        "Select **P different elements** from `L` such that the **difference between the maximum and minimum value** in the selected subset is the **smallest possible** among all possible combinations.\n",
        "\n",
        "Return this **minimum difference**.\n",
        "\n",
        "---\n",
        "\n",
        "### 📌 Note:\n",
        "- There can be **multiple subsets** with the same minimum difference.\n",
        "- Return the minimum difference value only (not the subset).\n",
        "\n",
        "---\n",
        "\n",
        "### 🧪 Example:\n",
        "\n",
        "#### Input:\n",
        "```python\n",
        "L = [3, 4, 1, 9, 56, 7, 9, 12]\n",
        "P = 5\n",
        "```\n",
        "\n",
        "#### Output:\n",
        "```python\n",
        "6\n",
        "```\n",
        "\n",
        "#### Explanation:\n",
        "Two subsets with minimum difference:\n",
        "- [3, 4, 7, 9, 9]\n",
        "- [7, 9, 9, 12, 13]\n",
        "\n",
        "Both have `max - min = 9 - 3 = 6` or `13 - 7 = 6`.\n",
        "\n",
        "---\n",
        "\n",
        "### 🚀 Write your solution in the code cell below:\n",
        "```python\n",
        "def find_Min_Difference(L, P):\n",
        "    # Your code here\n",
        "    pass\n",
        "```\n"
      ],
      "metadata": {
        "id": "WvgzbS6XAQzK"
      }
    },
    {
      "cell_type": "code",
      "source": [
        "def find_Min_Difference(L, P):\n",
        "    if len(L) < P:\n",
        "        return None  # Invalid input\n",
        "\n",
        "    L.sort()  # Step 1: Sort the list\n",
        "    min_diff = float('inf')  # Step 2: Start with very high diff\n",
        "\n",
        "    # Step 3: Check every window of size P\n",
        "    for i in range(len(L) - P + 1):\n",
        "        current_window = L[i:i+P]\n",
        "        diff = current_window[-1] - current_window[0]  # max - min\n",
        "        if diff < min_diff:\n",
        "            min_diff = diff\n",
        "\n",
        "    return min_diff\n",
        "L = [3, 4, 1, 9, 56, 7, 9, 12]\n",
        "P = 5\n",
        "print(find_Min_Difference(L,P))"
      ],
      "metadata": {
        "id": "MxtrMWEAIpbr",
        "colab": {
          "base_uri": "https://localhost:8080/"
        },
        "outputId": "3aa3d2f6-d703-4415-bc18-7674828abd34"
      },
      "execution_count": null,
      "outputs": [
        {
          "output_type": "stream",
          "name": "stdout",
          "text": [
            "6\n"
          ]
        }
      ]
    },
    {
      "cell_type": "markdown",
      "source": [
        "\n",
        "**Goldbach's conjecture** is one of the oldest and best-known unsolved problems in number theory.\n",
        "It states that every even number greater than 2 is the sum of two prime numbers.\n",
        "\n",
        "\n",
        " q4). Write a function **Goldbach(n)** where `n` is a positive even number (`n > 2`) that\n",
        "returns a list of tuples. In each tuple `(a, b)` where `a <= b`, `a` and `b` should be prime numbers\n",
        "and the sum of `a` and `b` should be equal to `n`.\n",
        "\n",
        "Sample Input\n",
        "`12`\n",
        "Output\n",
        "`[(5, 7)]`\n",
        " Sample Input\n",
        "`26`\n",
        " Output\n",
        "`[(3, 23), (7, 19), (13, 13)]`\n"
      ],
      "metadata": {
        "id": "_cOw0Y4HIp-D"
      }
    },
    {
      "cell_type": "code",
      "source": [
        "import math\n",
        "\n",
        "def prime(n):\n",
        "    if n <= 1:\n",
        "        return False\n",
        "    for i in range(2, int(math.sqrt(n)) + 1):\n",
        "        if n % i == 0:\n",
        "            return False\n",
        "    return True\n",
        "\n",
        "def goldbach(n):\n",
        "    pairs = []\n",
        "    for a in range(2, n // 2 + 1):\n",
        "        b = n - a\n",
        "        if prime(a) and prime(b):\n",
        "            pairs.append((a, b))\n",
        "    return pairs\n",
        "\n",
        "print(goldbach(12))  # [(5, 7)]\n",
        "print(goldbach(26))  # [(3, 23), (7, 19), (13, 13)]\n"
      ],
      "metadata": {
        "colab": {
          "base_uri": "https://localhost:8080/"
        },
        "id": "DnfTBva5_PFO",
        "outputId": "a203f60d-8b5b-4708-9bd9-107b41e54987"
      },
      "execution_count": null,
      "outputs": [
        {
          "output_type": "stream",
          "name": "stdout",
          "text": [
            "[(5, 7)]\n",
            "[(3, 23), (7, 19), (13, 13)]\n"
          ]
        }
      ]
    },
    {
      "cell_type": "markdown",
      "source": [
        "q5).\n",
        "Write a function named `odd_one(L)` that accepts a list `L` as argument. Except for one element, all other elements in `L` are of the same data type. The function `odd_one` should return the data type of this odd element.\n",
        "\n",
        "For example, if `L` is equal to `[1, 2, 3.4, 5, 10]`, then the function should return the string `float`. This is because the element `3.4` is the odd one here, all other elements are integers.\n",
        "\n",
        "**Note**\n",
        "\n",
        "(1) `L` has at least three elements.\n",
        "\n",
        "(2) For each test case, the elements in the list will only be of one of these four types: `int`, `float`, `str`, `bool`.\n",
        "\n",
        "(3) The function must return one of these four strings: `int`, `float`, `str`, `bool`.\n",
        "\n",
        "(4) Hint: `type(1) == int` evaluates to True.\n"
      ],
      "metadata": {
        "id": "CirHx0mTMmLr"
      }
    },
    {
      "cell_type": "code",
      "source": [
        "def odd_one(L):\n",
        "  d={}\n",
        "  for i in L:\n",
        "    if type(i) in d:\n",
        "      d[type(i)]+=1\n",
        "    else:\n",
        "      d[type(i)]=1\n",
        "  for k,v in d.items():\n",
        "    if v==1:\n",
        "      return k\n",
        "print(odd_one([1, 2, 3.4, 5, 10]))\n"
      ],
      "metadata": {
        "colab": {
          "base_uri": "https://localhost:8080/"
        },
        "id": "Vgov15wkMnTl",
        "outputId": "80d69e4b-166a-4c84-9fcd-15899022b62a"
      },
      "execution_count": null,
      "outputs": [
        {
          "output_type": "stream",
          "name": "stdout",
          "text": [
            "<class 'float'>\n"
          ]
        }
      ]
    }
  ]
}